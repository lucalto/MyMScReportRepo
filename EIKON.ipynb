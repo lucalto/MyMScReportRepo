{
 "cells": [
  {
   "cell_type": "code",
   "execution_count": null,
   "id": "96716e85",
   "metadata": {},
   "outputs": [],
   "source": [
    "# book a slot for eikon\n",
    "# https://bbk.libcal.com/reserve/eikon\n",
    "\n",
    "# download and instructions\n",
    "# https://birkbeckuol-my.sharepoint.com/personal/am_smith_bbk_ac_uk/_layouts/15/onedrive.aspx?id=%2Fpersonal%2Fam%5Fsmith%5Fbbk%5Fac%5Fuk%2FDocuments%2FDataStream%20%26%20Bloomberg%20guides%2FUsing%20Eikon%2Epdf&parent=%2Fpersonal%2Fam%5Fsmith%5Fbbk%5Fac%5Fuk%2FDocuments%2FDataStream%20%26%20Bloomberg%20guides&ga=1"
   ]
  },
  {
   "cell_type": "code",
   "execution_count": null,
   "id": "2b13c7c4",
   "metadata": {},
   "outputs": [],
   "source": [
    "import eikon as ek\n",
    "ek.set_app_key('09045a9476f94a7593fa549512e20bf0330e166d')"
   ]
  },
  {
   "cell_type": "code",
   "execution_count": null,
   "id": "f6e6e8e4",
   "metadata": {},
   "outputs": [],
   "source": [
    "# download prices\n",
    "crude_prices = ek.get_timeseries(\"CLc1\", start_date='2021-12-01', end_date='2023-04-01', interval='daily')"
   ]
  },
  {
   "cell_type": "code",
   "execution_count": null,
   "id": "2a475e13",
   "metadata": {},
   "outputs": [],
   "source": [
    "# get headlines\n",
    "temp_headlines = ek.get_news_headlines(\"crude oil IN ENGLISH\", date_from = (start.strftime(\"%m-%d-%Y\")), date_to=(next.strftime(\"%m-%d-%Y\")), count=100  )\n",
    "\n",
    "# given the headline code, download the news \n",
    "for i in range(len(temp_headlines)):\n",
    "    temp_story=ek.get_news_story(temp_headlines['storyId'][i], raw_output=False, debug=False)\n",
    "    stories.append((temp_story, temp_headlines['versionCreated'][i], temp_headlines['storyId'][i]))"
   ]
  }
 ],
 "metadata": {
  "kernelspec": {
   "display_name": "Python 3 (ipykernel)",
   "language": "python",
   "name": "python3"
  },
  "language_info": {
   "codemirror_mode": {
    "name": "ipython",
    "version": 3
   },
   "file_extension": ".py",
   "mimetype": "text/x-python",
   "name": "python",
   "nbconvert_exporter": "python",
   "pygments_lexer": "ipython3",
   "version": "3.11.5"
  }
 },
 "nbformat": 4,
 "nbformat_minor": 5
}
