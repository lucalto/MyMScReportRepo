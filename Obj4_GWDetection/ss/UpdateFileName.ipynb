{
 "cells": [
  {
   "cell_type": "code",
   "execution_count": 1,
   "metadata": {},
   "outputs": [],
   "source": [
    "import os\n",
    "import re\n"
   ]
  },
  {
   "cell_type": "code",
   "execution_count": 2,
   "metadata": {},
   "outputs": [],
   "source": [
    "\n",
    "def rename_files(directory):\n",
    "    # Regular expression to match the input file pattern: year_text.pdf\n",
    "    pattern = re.compile(r'(\\d{4})_(.+)\\.pdf')\n",
    "\n",
    "    for filename in os.listdir(directory):\n",
    "        match = pattern.match(filename)\n",
    "        if match:\n",
    "            year, text = match.groups()\n",
    "            new_filename = f\"{text}_{year}.pdf\"\n",
    "            old_filepath = os.path.join(directory, filename)\n",
    "            new_filepath = os.path.join(directory, new_filename)\n",
    "            os.rename(old_filepath, new_filepath)\n",
    "            print(f\"Renamed '{filename}' to '{new_filename}'\")\n"
   ]
  },
  {
   "cell_type": "code",
   "execution_count": 18,
   "metadata": {},
   "outputs": [
    {
     "name": "stdout",
     "output_type": "stream",
     "text": [
      "Renamed '2015_Tesco.pdf' to 'Tesco_2015.pdf'\n",
      "Renamed '2020_Tesco.pdf' to 'Tesco_2020.pdf'\n",
      "Renamed '2018_Tesco.pdf' to 'Tesco_2018.pdf'\n",
      "Renamed '2014_Tesco.pdf' to 'Tesco_2014.pdf'\n",
      "Renamed '2021_Tesco.pdf' to 'Tesco_2021.pdf'\n",
      "Renamed '2019_Tesco.pdf' to 'Tesco_2019.pdf'\n",
      "Renamed '2022_Tesco.pdf' to 'Tesco_2022.pdf'\n",
      "Renamed '2017_Tesco.pdf' to 'Tesco_2017.pdf'\n",
      "Renamed '2023_Tesco.pdf' to 'Tesco_2023.pdf'\n",
      "Renamed '2016_Tesco.pdf' to 'Tesco_2016.pdf'\n"
     ]
    }
   ],
   "source": [
    "\n",
    "# Example usage\n",
    "directory = '../Data/Input/Reports/Retail/Tesco'  # Replace with your directory path\n",
    "rename_files(directory)\n"
   ]
  }
 ],
 "metadata": {
  "kernelspec": {
   "display_name": "myenv",
   "language": "python",
   "name": "python3"
  },
  "language_info": {
   "codemirror_mode": {
    "name": "ipython",
    "version": 3
   },
   "file_extension": ".py",
   "mimetype": "text/x-python",
   "name": "python",
   "nbconvert_exporter": "python",
   "pygments_lexer": "ipython3",
   "version": "3.12.1"
  }
 },
 "nbformat": 4,
 "nbformat_minor": 2
}
