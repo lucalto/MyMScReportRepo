{
 "cells": [
  {
   "cell_type": "code",
   "execution_count": null,
   "id": "96716e85",
   "metadata": {},
   "outputs": [],
   "source": [
    "# book a slot for eikon\n",
    "# https://bbk.libcal.com/reserve/eikon\n",
    "\n",
    "# download and instructions\n",
    "# https://birkbeckuol-my.sharepoint.com/personal/am_smith_bbk_ac_uk/_layouts/15/onedrive.aspx?id=%2Fpersonal%2Fam%5Fsmith%5Fbbk%5Fac%5Fuk%2FDocuments%2FDataStream%20%26%20Bloomberg%20guides%2FUsing%20Eikon%2Epdf&parent=%2Fpersonal%2Fam%5Fsmith%5Fbbk%5Fac%5Fuk%2FDocuments%2FDataStream%20%26%20Bloomberg%20guides&ga=1"
   ]
  },
  {
   "cell_type": "code",
   "execution_count": 29,
   "id": "79318eff",
   "metadata": {},
   "outputs": [],
   "source": [
    "import numpy as np\n",
    "import pandas as pd\n",
    "import cufflinks as cf\n",
    "import matplotlib as plt"
   ]
  },
  {
   "cell_type": "code",
   "execution_count": 30,
   "id": "2b13c7c4",
   "metadata": {},
   "outputs": [
    {
     "name": "stderr",
     "output_type": "stream",
     "text": [
      "2024-07-26 19:30:47,835 P[32374] [MainThread 8475036672] Error: no proxy address identified.\n",
      "Check if Eikon Desktop or Eikon API Proxy is running.\n",
      "2024-07-26 19:30:47,836 P[32374] [MainThread 8475036672] Error on handshake url http://127.0.0.1:None/api/handshake : InvalidURL(\"Invalid port: 'None'\")\n",
      "2024-07-26 19:30:47,836 P[32374] [MainThread 8475036672] Error on handshake url http://127.0.0.1:None/api/handshake : InvalidURL(\"Invalid port: 'None'\")\n",
      "2024-07-26 19:30:47,837 P[32374] [MainThread 8475036672] Port number was not identified, cannot send any request\n"
     ]
    }
   ],
   "source": [
    "import eikon as ek\n",
    "ek.set_app_key('8e72e1940b6c460e928c9a41a74b14e832d9972a')"
   ]
  },
  {
   "cell_type": "code",
   "execution_count": null,
   "id": "9c793207",
   "metadata": {},
   "outputs": [],
   "source": []
  },
  {
   "cell_type": "code",
   "execution_count": 25,
   "id": "f6e6e8e4",
   "metadata": {},
   "outputs": [
    {
     "name": "stderr",
     "output_type": "stream",
     "text": [
      "2024-07-25 22:39:48,020 P[32374] [MainThread 8475036672] HTTP request failed: Invalid port: 'None'\n"
     ]
    }
   ],
   "source": [
    "# download prices\n",
    "crude_prices = ek.get_timeseries(\"CLc1\", start_date='2021-12-01', end_date='2023-04-01', interval='daily')"
   ]
  },
  {
   "cell_type": "code",
   "execution_count": 4,
   "id": "2a475e13",
   "metadata": {},
   "outputs": [
    {
     "ename": "NameError",
     "evalue": "name 'start' is not defined",
     "output_type": "error",
     "traceback": [
      "\u001b[0;31m---------------------------------------------------------------------------\u001b[0m",
      "\u001b[0;31mNameError\u001b[0m                                 Traceback (most recent call last)",
      "Cell \u001b[0;32mIn[4], line 2\u001b[0m\n\u001b[1;32m      1\u001b[0m \u001b[38;5;66;03m# get headlines\u001b[39;00m\n\u001b[0;32m----> 2\u001b[0m temp_headlines \u001b[38;5;241m=\u001b[39m ek\u001b[38;5;241m.\u001b[39mget_news_headlines(\u001b[38;5;124m\"\u001b[39m\u001b[38;5;124mcrude oil IN ENGLISH\u001b[39m\u001b[38;5;124m\"\u001b[39m, date_from \u001b[38;5;241m=\u001b[39m (\u001b[43mstart\u001b[49m\u001b[38;5;241m.\u001b[39mstrftime(\u001b[38;5;124m\"\u001b[39m\u001b[38;5;124m%\u001b[39m\u001b[38;5;124mm-\u001b[39m\u001b[38;5;132;01m%d\u001b[39;00m\u001b[38;5;124m-\u001b[39m\u001b[38;5;124m%\u001b[39m\u001b[38;5;124mY\u001b[39m\u001b[38;5;124m\"\u001b[39m)), date_to\u001b[38;5;241m=\u001b[39m(\u001b[38;5;28mnext\u001b[39m\u001b[38;5;241m.\u001b[39mstrftime(\u001b[38;5;124m\"\u001b[39m\u001b[38;5;124m%\u001b[39m\u001b[38;5;124mm-\u001b[39m\u001b[38;5;132;01m%d\u001b[39;00m\u001b[38;5;124m-\u001b[39m\u001b[38;5;124m%\u001b[39m\u001b[38;5;124mY\u001b[39m\u001b[38;5;124m\"\u001b[39m)), count\u001b[38;5;241m=\u001b[39m\u001b[38;5;241m100\u001b[39m  )\n\u001b[1;32m      4\u001b[0m \u001b[38;5;66;03m# given the headline code, download the news \u001b[39;00m\n\u001b[1;32m      5\u001b[0m \u001b[38;5;28;01mfor\u001b[39;00m i \u001b[38;5;129;01min\u001b[39;00m \u001b[38;5;28mrange\u001b[39m(\u001b[38;5;28mlen\u001b[39m(temp_headlines)):\n",
      "\u001b[0;31mNameError\u001b[0m: name 'start' is not defined"
     ]
    }
   ],
   "source": [
    "# get headlines\n",
    "temp_headlines = ek.get_news_headlines(\"crude oil IN ENGLISH\", date_from = (start.strftime(\"%m-%d-%Y\")), date_to=(next.strftime(\"%m-%d-%Y\")), count=100  )\n",
    "\n",
    "# given the headline code, download the news \n",
    "for i in range(len(temp_headlines)):\n",
    "    temp_story=ek.get_news_story(temp_headlines['storyId'][i], raw_output=False, debug=False)\n",
    "    stories.append((temp_story, temp_headlines['versionCreated'][i], temp_headlines['storyId'][i]))"
   ]
  },
  {
   "cell_type": "code",
   "execution_count": 6,
   "id": "419abfb1",
   "metadata": {},
   "outputs": [
    {
     "name": "stderr",
     "output_type": "stream",
     "text": [
      "ERROR!!! An error occurred while requesting URL('http://localhost:9000/api/status').\n",
      "     ConnectError('All connection attempts failed')\n",
      "ERROR!!! An error occurred while requesting URL('http://localhost:9060/api/status').\n",
      "     ConnectError('All connection attempts failed')\n",
      "Error: no proxy address identified.\n",
      "Check if Desktop is running.\n",
      "ERROR!!! An error occurred while requesting URL('http://localhost:9000/api/handshake').\n",
      "     ConnectError('All connection attempts failed')\n"
     ]
    },
    {
     "ename": "EndpointError",
     "evalue": "Error code -1 | Session is not opened. Can't send any request",
     "output_type": "error",
     "traceback": [
      "\u001b[0;31m---------------------------------------------------------------------------\u001b[0m",
      "\u001b[0;31mEndpointError\u001b[0m                             Traceback (most recent call last)",
      "Cell \u001b[0;32mIn[6], line 7\u001b[0m\n\u001b[1;32m      3\u001b[0m rdp\u001b[38;5;241m.\u001b[39mopen_desktop_session(\u001b[38;5;124m'\u001b[39m\u001b[38;5;124m09045a9476f94a7593fa549512e20bf0330e166d\u001b[39m\u001b[38;5;124m'\u001b[39m)\n\u001b[1;32m      4\u001b[0m \u001b[38;5;66;03m# Date format: YYYY-MM-DD\u001b[39;00m\n\u001b[1;32m      5\u001b[0m \u001b[38;5;66;03m# Refer to Carlo doc for granularity less than DAY (rdp.Intervals.xxx)\u001b[39;00m\n\u001b[1;32m      6\u001b[0m \u001b[38;5;66;03m# https://community.developers.refinitiv.com/questions/113429/seeking-time-interval-codes-for-20-minute-and-30-m.html\u001b[39;00m\n\u001b[0;32m----> 7\u001b[0m wti \u001b[38;5;241m=\u001b[39m \u001b[43mrdp\u001b[49m\u001b[38;5;241;43m.\u001b[39;49m\u001b[43mget_historical_price_summaries\u001b[49m\u001b[43m(\u001b[49m\u001b[43muniverse\u001b[49m\u001b[43m \u001b[49m\u001b[38;5;241;43m=\u001b[39;49m\u001b[43m \u001b[49m\u001b[38;5;124;43m'\u001b[39;49m\u001b[38;5;124;43mCLc1\u001b[39;49m\u001b[38;5;124;43m'\u001b[39;49m\u001b[43m,\u001b[49m\u001b[43m \u001b[49m\u001b[43minterval\u001b[49m\u001b[43m \u001b[49m\u001b[38;5;241;43m=\u001b[39;49m\u001b[43m \u001b[49m\u001b[43mrdp\u001b[49m\u001b[38;5;241;43m.\u001b[39;49m\u001b[43mIntervals\u001b[49m\u001b[38;5;241;43m.\u001b[39;49m\u001b[43mDAILY\u001b[49m\u001b[43m,\u001b[49m\u001b[43m \u001b[49m\u001b[43mstart\u001b[49m\u001b[43m \u001b[49m\u001b[38;5;241;43m=\u001b[39;49m\u001b[43m \u001b[49m\u001b[38;5;124;43m'\u001b[39;49m\u001b[38;5;124;43m2011-12-01\u001b[39;49m\u001b[38;5;124;43m'\u001b[39;49m\u001b[43m,\u001b[49m\u001b[43m \u001b[49m\u001b[43mend\u001b[49m\u001b[43m \u001b[49m\u001b[38;5;241;43m=\u001b[39;49m\u001b[43m \u001b[49m\u001b[38;5;124;43m'\u001b[39;49m\u001b[38;5;124;43m2011-12-31\u001b[39;49m\u001b[38;5;124;43m'\u001b[39;49m\u001b[43m)\u001b[49m\n\u001b[1;32m      8\u001b[0m wti\u001b[38;5;241m.\u001b[39mto_csv(PATH_DATA_CLEAN \u001b[38;5;241m+\u001b[39m \u001b[38;5;124m'\u001b[39m\u001b[38;5;124mwti_December_2011.csv\u001b[39m\u001b[38;5;124m'\u001b[39m, index \u001b[38;5;241m=\u001b[39m \u001b[38;5;28;01mFalse\u001b[39;00m)\n",
      "File \u001b[0;32m~/Documents/02_Uni/02_BBK/09_FinalProject/MyReportRepo/env/lib/python3.12/site-packages/refinitiv/dataplatform/factory/content_factory.py:646\u001b[0m, in \u001b[0;36mget_historical_price_summaries\u001b[0;34m(universe, interval, start, end, adjustments, sessions, count, fields)\u001b[0m\n\u001b[1;32m    636\u001b[0m \u001b[38;5;28;01mdef\u001b[39;00m \u001b[38;5;21mget_historical_price_summaries\u001b[39m(\n\u001b[1;32m    637\u001b[0m     universe,\n\u001b[1;32m    638\u001b[0m     interval\u001b[38;5;241m=\u001b[39m\u001b[38;5;28;01mNone\u001b[39;00m,\n\u001b[0;32m   (...)\u001b[0m\n\u001b[1;32m    644\u001b[0m     fields\u001b[38;5;241m=\u001b[39m[],\n\u001b[1;32m    645\u001b[0m ):\n\u001b[0;32m--> 646\u001b[0m     \u001b[38;5;28;01mreturn\u001b[39;00m \u001b[43mContentFactory\u001b[49m\u001b[38;5;241;43m.\u001b[39;49m\u001b[43m_get_historical_price_summaries\u001b[49m\u001b[43m(\u001b[49m\n\u001b[1;32m    647\u001b[0m \u001b[43m        \u001b[49m\u001b[43muniverse\u001b[49m\u001b[38;5;241;43m=\u001b[39;49m\u001b[43muniverse\u001b[49m\u001b[43m,\u001b[49m\n\u001b[1;32m    648\u001b[0m \u001b[43m        \u001b[49m\u001b[43minterval\u001b[49m\u001b[38;5;241;43m=\u001b[39;49m\u001b[43minterval\u001b[49m\u001b[43m,\u001b[49m\n\u001b[1;32m    649\u001b[0m \u001b[43m        \u001b[49m\u001b[43mstart\u001b[49m\u001b[38;5;241;43m=\u001b[39;49m\u001b[43mstart\u001b[49m\u001b[43m,\u001b[49m\n\u001b[1;32m    650\u001b[0m \u001b[43m        \u001b[49m\u001b[43mend\u001b[49m\u001b[38;5;241;43m=\u001b[39;49m\u001b[43mend\u001b[49m\u001b[43m,\u001b[49m\n\u001b[1;32m    651\u001b[0m \u001b[43m        \u001b[49m\u001b[43madjustments\u001b[49m\u001b[38;5;241;43m=\u001b[39;49m\u001b[43madjustments\u001b[49m\u001b[43m,\u001b[49m\n\u001b[1;32m    652\u001b[0m \u001b[43m        \u001b[49m\u001b[43msessions\u001b[49m\u001b[38;5;241;43m=\u001b[39;49m\u001b[43msessions\u001b[49m\u001b[43m,\u001b[49m\n\u001b[1;32m    653\u001b[0m \u001b[43m        \u001b[49m\u001b[43mcount\u001b[49m\u001b[38;5;241;43m=\u001b[39;49m\u001b[43mcount\u001b[49m\u001b[43m,\u001b[49m\n\u001b[1;32m    654\u001b[0m \u001b[43m        \u001b[49m\u001b[43mfields\u001b[49m\u001b[38;5;241;43m=\u001b[39;49m\u001b[43mfields\u001b[49m\u001b[43m,\u001b[49m\n\u001b[1;32m    655\u001b[0m \u001b[43m    \u001b[49m\u001b[43m)\u001b[49m\n",
      "File \u001b[0;32m~/Documents/02_Uni/02_BBK/09_FinalProject/MyReportRepo/env/lib/python3.12/site-packages/refinitiv/dataplatform/factory/content_factory.py:252\u001b[0m, in \u001b[0;36mContentFactory._get_historical_price_summaries\u001b[0;34m(cls, universe, interval, start, end, adjustments, sessions, count, fields, on_response, closure)\u001b[0m\n\u001b[1;32m    250\u001b[0m session \u001b[38;5;241m=\u001b[39m ContentFactory\u001b[38;5;241m.\u001b[39mget_default_session()\n\u001b[1;32m    251\u001b[0m historical_pricing \u001b[38;5;241m=\u001b[39m HistoricalPricing(session\u001b[38;5;241m=\u001b[39msession, on_response\u001b[38;5;241m=\u001b[39mon_response)\n\u001b[0;32m--> 252\u001b[0m historic_summaries \u001b[38;5;241m=\u001b[39m \u001b[43mhistorical_pricing\u001b[49m\u001b[38;5;241;43m.\u001b[39;49m\u001b[43mget_summaries\u001b[49m\u001b[43m(\u001b[49m\n\u001b[1;32m    253\u001b[0m \u001b[43m    \u001b[49m\u001b[43muniverse\u001b[49m\u001b[38;5;241;43m=\u001b[39;49m\u001b[43muniverse\u001b[49m\u001b[43m,\u001b[49m\n\u001b[1;32m    254\u001b[0m \u001b[43m    \u001b[49m\u001b[43minterval\u001b[49m\u001b[38;5;241;43m=\u001b[39;49m\u001b[43minterval\u001b[49m\u001b[43m,\u001b[49m\n\u001b[1;32m    255\u001b[0m \u001b[43m    \u001b[49m\u001b[43mstart\u001b[49m\u001b[38;5;241;43m=\u001b[39;49m\u001b[43mstart\u001b[49m\u001b[43m,\u001b[49m\n\u001b[1;32m    256\u001b[0m \u001b[43m    \u001b[49m\u001b[43mend\u001b[49m\u001b[38;5;241;43m=\u001b[39;49m\u001b[43mend\u001b[49m\u001b[43m,\u001b[49m\n\u001b[1;32m    257\u001b[0m \u001b[43m    \u001b[49m\u001b[43madjustments\u001b[49m\u001b[38;5;241;43m=\u001b[39;49m\u001b[43madjustments\u001b[49m\u001b[43m,\u001b[49m\n\u001b[1;32m    258\u001b[0m \u001b[43m    \u001b[49m\u001b[43msessions\u001b[49m\u001b[38;5;241;43m=\u001b[39;49m\u001b[43msessions\u001b[49m\u001b[43m,\u001b[49m\n\u001b[1;32m    259\u001b[0m \u001b[43m    \u001b[49m\u001b[43mcount\u001b[49m\u001b[38;5;241;43m=\u001b[39;49m\u001b[43mcount\u001b[49m\u001b[43m,\u001b[49m\n\u001b[1;32m    260\u001b[0m \u001b[43m    \u001b[49m\u001b[43mfields\u001b[49m\u001b[38;5;241;43m=\u001b[39;49m\u001b[43mfields\u001b[49m\u001b[43m,\u001b[49m\n\u001b[1;32m    261\u001b[0m \u001b[43m    \u001b[49m\u001b[43mclosure\u001b[49m\u001b[38;5;241;43m=\u001b[39;49m\u001b[43mclosure\u001b[49m\u001b[43m,\u001b[49m\n\u001b[1;32m    262\u001b[0m \u001b[43m\u001b[49m\u001b[43m)\u001b[49m\n\u001b[1;32m    263\u001b[0m \u001b[38;5;28mcls\u001b[39m\u001b[38;5;241m.\u001b[39m_last_result \u001b[38;5;241m=\u001b[39m historic_summaries\n\u001b[1;32m    264\u001b[0m \u001b[38;5;28;01mif\u001b[39;00m (\n\u001b[1;32m    265\u001b[0m     historic_summaries\u001b[38;5;241m.\u001b[39mis_success\n\u001b[1;32m    266\u001b[0m     \u001b[38;5;129;01mand\u001b[39;00m historic_summaries\u001b[38;5;241m.\u001b[39mdata\n\u001b[1;32m    267\u001b[0m     \u001b[38;5;129;01mand\u001b[39;00m historic_summaries\u001b[38;5;241m.\u001b[39mdata\u001b[38;5;241m.\u001b[39mdf \u001b[38;5;129;01mis\u001b[39;00m \u001b[38;5;129;01mnot\u001b[39;00m \u001b[38;5;28;01mNone\u001b[39;00m\n\u001b[1;32m    268\u001b[0m ):\n",
      "File \u001b[0;32m~/Documents/02_Uni/02_BBK/09_FinalProject/MyReportRepo/env/lib/python3.12/site-packages/refinitiv/dataplatform/content/data/historical_pricing.py:302\u001b[0m, in \u001b[0;36mHistoricalPricing.get_summaries\u001b[0;34m(universe, session, interval, start, end, adjustments, sessions, count, fields, on_response, closure)\u001b[0m\n\u001b[1;32m    298\u001b[0m \u001b[38;5;28;01mif\u001b[39;00m session \u001b[38;5;129;01mis\u001b[39;00m \u001b[38;5;129;01mnot\u001b[39;00m \u001b[38;5;28;01mNone\u001b[39;00m:\n\u001b[1;32m    299\u001b[0m     historical_pricing \u001b[38;5;241m=\u001b[39m HistoricalPricing(\n\u001b[1;32m    300\u001b[0m         session\u001b[38;5;241m=\u001b[39msession, on_response\u001b[38;5;241m=\u001b[39mon_response\n\u001b[1;32m    301\u001b[0m     )\n\u001b[0;32m--> 302\u001b[0m     result \u001b[38;5;241m=\u001b[39m \u001b[43mhistorical_pricing\u001b[49m\u001b[38;5;241;43m.\u001b[39;49m\u001b[43m_get_summaries\u001b[49m\u001b[43m(\u001b[49m\n\u001b[1;32m    303\u001b[0m \u001b[43m        \u001b[49m\u001b[43muniverse\u001b[49m\u001b[38;5;241;43m=\u001b[39;49m\u001b[43muniverse\u001b[49m\u001b[43m,\u001b[49m\n\u001b[1;32m    304\u001b[0m \u001b[43m        \u001b[49m\u001b[43minterval\u001b[49m\u001b[38;5;241;43m=\u001b[39;49m\u001b[43minterval\u001b[49m\u001b[43m,\u001b[49m\n\u001b[1;32m    305\u001b[0m \u001b[43m        \u001b[49m\u001b[43mstart\u001b[49m\u001b[38;5;241;43m=\u001b[39;49m\u001b[43mstart\u001b[49m\u001b[43m,\u001b[49m\n\u001b[1;32m    306\u001b[0m \u001b[43m        \u001b[49m\u001b[43mend\u001b[49m\u001b[38;5;241;43m=\u001b[39;49m\u001b[43mend\u001b[49m\u001b[43m,\u001b[49m\n\u001b[1;32m    307\u001b[0m \u001b[43m        \u001b[49m\u001b[43madjustments\u001b[49m\u001b[38;5;241;43m=\u001b[39;49m\u001b[43madjustments\u001b[49m\u001b[43m,\u001b[49m\n\u001b[1;32m    308\u001b[0m \u001b[43m        \u001b[49m\u001b[43msessions\u001b[49m\u001b[38;5;241;43m=\u001b[39;49m\u001b[43msessions\u001b[49m\u001b[43m,\u001b[49m\n\u001b[1;32m    309\u001b[0m \u001b[43m        \u001b[49m\u001b[43mcount\u001b[49m\u001b[38;5;241;43m=\u001b[39;49m\u001b[43mcount\u001b[49m\u001b[43m,\u001b[49m\n\u001b[1;32m    310\u001b[0m \u001b[43m        \u001b[49m\u001b[43mfields\u001b[49m\u001b[38;5;241;43m=\u001b[39;49m\u001b[43mfields\u001b[49m\u001b[43m,\u001b[49m\n\u001b[1;32m    311\u001b[0m \u001b[43m        \u001b[49m\u001b[43mclosure\u001b[49m\u001b[38;5;241;43m=\u001b[39;49m\u001b[43mclosure\u001b[49m\u001b[43m,\u001b[49m\n\u001b[1;32m    312\u001b[0m \u001b[43m    \u001b[49m\u001b[43m)\u001b[49m\n\u001b[1;32m    313\u001b[0m     \u001b[38;5;28;01mreturn\u001b[39;00m result\n",
      "File \u001b[0;32m~/Documents/02_Uni/02_BBK/09_FinalProject/MyReportRepo/env/lib/python3.12/site-packages/refinitiv/dataplatform/content/data/historical_pricing.py:327\u001b[0m, in \u001b[0;36mHistoricalPricing._get_summaries\u001b[0;34m(self, universe, interval, start, end, adjustments, sessions, count, fields, closure)\u001b[0m\n\u001b[1;32m    315\u001b[0m \u001b[38;5;28;01mdef\u001b[39;00m \u001b[38;5;21m_get_summaries\u001b[39m(\n\u001b[1;32m    316\u001b[0m     \u001b[38;5;28mself\u001b[39m,\n\u001b[1;32m    317\u001b[0m     universe\u001b[38;5;241m=\u001b[39m\u001b[38;5;28;01mNone\u001b[39;00m,\n\u001b[0;32m   (...)\u001b[0m\n\u001b[1;32m    325\u001b[0m     closure\u001b[38;5;241m=\u001b[39m\u001b[38;5;28;01mNone\u001b[39;00m,\n\u001b[1;32m    326\u001b[0m ):\n\u001b[0;32m--> 327\u001b[0m     \u001b[38;5;28;01mreturn\u001b[39;00m \u001b[38;5;28;43mself\u001b[39;49m\u001b[38;5;241;43m.\u001b[39;49m\u001b[43m_endpoint\u001b[49m\u001b[38;5;241;43m.\u001b[39;49m\u001b[43msession\u001b[49m\u001b[38;5;241;43m.\u001b[39;49m\u001b[43m_loop\u001b[49m\u001b[38;5;241;43m.\u001b[39;49m\u001b[43mrun_until_complete\u001b[49m\u001b[43m(\u001b[49m\n\u001b[1;32m    328\u001b[0m \u001b[43m        \u001b[49m\u001b[38;5;28;43mself\u001b[39;49m\u001b[38;5;241;43m.\u001b[39;49m\u001b[43m_get_summaries_async\u001b[49m\u001b[43m(\u001b[49m\n\u001b[1;32m    329\u001b[0m \u001b[43m            \u001b[49m\u001b[43muniverse\u001b[49m\u001b[38;5;241;43m=\u001b[39;49m\u001b[43muniverse\u001b[49m\u001b[43m,\u001b[49m\n\u001b[1;32m    330\u001b[0m \u001b[43m            \u001b[49m\u001b[43minterval\u001b[49m\u001b[38;5;241;43m=\u001b[39;49m\u001b[43minterval\u001b[49m\u001b[43m,\u001b[49m\n\u001b[1;32m    331\u001b[0m \u001b[43m            \u001b[49m\u001b[43mstart\u001b[49m\u001b[38;5;241;43m=\u001b[39;49m\u001b[43mstart\u001b[49m\u001b[43m,\u001b[49m\n\u001b[1;32m    332\u001b[0m \u001b[43m            \u001b[49m\u001b[43mend\u001b[49m\u001b[38;5;241;43m=\u001b[39;49m\u001b[43mend\u001b[49m\u001b[43m,\u001b[49m\n\u001b[1;32m    333\u001b[0m \u001b[43m            \u001b[49m\u001b[43madjustments\u001b[49m\u001b[38;5;241;43m=\u001b[39;49m\u001b[43madjustments\u001b[49m\u001b[43m,\u001b[49m\n\u001b[1;32m    334\u001b[0m \u001b[43m            \u001b[49m\u001b[43msessions\u001b[49m\u001b[38;5;241;43m=\u001b[39;49m\u001b[43msessions\u001b[49m\u001b[43m,\u001b[49m\n\u001b[1;32m    335\u001b[0m \u001b[43m            \u001b[49m\u001b[43mcount\u001b[49m\u001b[38;5;241;43m=\u001b[39;49m\u001b[43mcount\u001b[49m\u001b[43m,\u001b[49m\n\u001b[1;32m    336\u001b[0m \u001b[43m            \u001b[49m\u001b[43mfields\u001b[49m\u001b[38;5;241;43m=\u001b[39;49m\u001b[43mfields\u001b[49m\u001b[43m,\u001b[49m\n\u001b[1;32m    337\u001b[0m \u001b[43m            \u001b[49m\u001b[43mclosure\u001b[49m\u001b[38;5;241;43m=\u001b[39;49m\u001b[43mclosure\u001b[49m\u001b[43m,\u001b[49m\n\u001b[1;32m    338\u001b[0m \u001b[43m        \u001b[49m\u001b[43m)\u001b[49m\n\u001b[1;32m    339\u001b[0m \u001b[43m    \u001b[49m\u001b[43m)\u001b[49m\n",
      "File \u001b[0;32m~/Documents/02_Uni/02_BBK/09_FinalProject/MyReportRepo/env/lib/python3.12/site-packages/nest_asyncio.py:98\u001b[0m, in \u001b[0;36m_patch_loop.<locals>.run_until_complete\u001b[0;34m(self, future)\u001b[0m\n\u001b[1;32m     95\u001b[0m \u001b[38;5;28;01mif\u001b[39;00m \u001b[38;5;129;01mnot\u001b[39;00m f\u001b[38;5;241m.\u001b[39mdone():\n\u001b[1;32m     96\u001b[0m     \u001b[38;5;28;01mraise\u001b[39;00m \u001b[38;5;167;01mRuntimeError\u001b[39;00m(\n\u001b[1;32m     97\u001b[0m         \u001b[38;5;124m'\u001b[39m\u001b[38;5;124mEvent loop stopped before Future completed.\u001b[39m\u001b[38;5;124m'\u001b[39m)\n\u001b[0;32m---> 98\u001b[0m \u001b[38;5;28;01mreturn\u001b[39;00m \u001b[43mf\u001b[49m\u001b[38;5;241;43m.\u001b[39;49m\u001b[43mresult\u001b[49m\u001b[43m(\u001b[49m\u001b[43m)\u001b[49m\n",
      "File \u001b[0;32m/Library/Frameworks/Python.framework/Versions/3.12/lib/python3.12/asyncio/futures.py:203\u001b[0m, in \u001b[0;36mFuture.result\u001b[0;34m(self)\u001b[0m\n\u001b[1;32m    201\u001b[0m \u001b[38;5;28mself\u001b[39m\u001b[38;5;241m.\u001b[39m__log_traceback \u001b[38;5;241m=\u001b[39m \u001b[38;5;28;01mFalse\u001b[39;00m\n\u001b[1;32m    202\u001b[0m \u001b[38;5;28;01mif\u001b[39;00m \u001b[38;5;28mself\u001b[39m\u001b[38;5;241m.\u001b[39m_exception \u001b[38;5;129;01mis\u001b[39;00m \u001b[38;5;129;01mnot\u001b[39;00m \u001b[38;5;28;01mNone\u001b[39;00m:\n\u001b[0;32m--> 203\u001b[0m     \u001b[38;5;28;01mraise\u001b[39;00m \u001b[38;5;28mself\u001b[39m\u001b[38;5;241m.\u001b[39m_exception\u001b[38;5;241m.\u001b[39mwith_traceback(\u001b[38;5;28mself\u001b[39m\u001b[38;5;241m.\u001b[39m_exception_tb)\n\u001b[1;32m    204\u001b[0m \u001b[38;5;28;01mreturn\u001b[39;00m \u001b[38;5;28mself\u001b[39m\u001b[38;5;241m.\u001b[39m_result\n",
      "File \u001b[0;32m/Library/Frameworks/Python.framework/Versions/3.12/lib/python3.12/asyncio/tasks.py:314\u001b[0m, in \u001b[0;36mTask.__step_run_and_handle_result\u001b[0;34m(***failed resolving arguments***)\u001b[0m\n\u001b[1;32m    310\u001b[0m \u001b[38;5;28;01mtry\u001b[39;00m:\n\u001b[1;32m    311\u001b[0m     \u001b[38;5;28;01mif\u001b[39;00m exc \u001b[38;5;129;01mis\u001b[39;00m \u001b[38;5;28;01mNone\u001b[39;00m:\n\u001b[1;32m    312\u001b[0m         \u001b[38;5;66;03m# We use the `send` method directly, because coroutines\u001b[39;00m\n\u001b[1;32m    313\u001b[0m         \u001b[38;5;66;03m# don't have `__iter__` and `__next__` methods.\u001b[39;00m\n\u001b[0;32m--> 314\u001b[0m         result \u001b[38;5;241m=\u001b[39m \u001b[43mcoro\u001b[49m\u001b[38;5;241;43m.\u001b[39;49m\u001b[43msend\u001b[49m\u001b[43m(\u001b[49m\u001b[38;5;28;43;01mNone\u001b[39;49;00m\u001b[43m)\u001b[49m\n\u001b[1;32m    315\u001b[0m     \u001b[38;5;28;01melse\u001b[39;00m:\n\u001b[1;32m    316\u001b[0m         result \u001b[38;5;241m=\u001b[39m coro\u001b[38;5;241m.\u001b[39mthrow(exc)\n",
      "File \u001b[0;32m~/Documents/02_Uni/02_BBK/09_FinalProject/MyReportRepo/env/lib/python3.12/site-packages/refinitiv/dataplatform/content/data/historical_pricing.py:523\u001b[0m, in \u001b[0;36mHistoricalPricing._get_summaries_async\u001b[0;34m(self, universe, interval, start, end, adjustments, sessions, count, fields, closure)\u001b[0m\n\u001b[1;32m    520\u001b[0m     \u001b[38;5;28;01mif\u001b[39;00m field_timestamp \u001b[38;5;129;01mnot\u001b[39;00m \u001b[38;5;129;01min\u001b[39;00m fields:\n\u001b[1;32m    521\u001b[0m         fields\u001b[38;5;241m.\u001b[39mappend(field_timestamp)\n\u001b[0;32m--> 523\u001b[0m _result \u001b[38;5;241m=\u001b[39m \u001b[38;5;28;01mawait\u001b[39;00m \u001b[38;5;28mself\u001b[39m\u001b[38;5;241m.\u001b[39m_get_historicalpricing(\n\u001b[1;32m    524\u001b[0m     url\u001b[38;5;241m=\u001b[39m_url,\n\u001b[1;32m    525\u001b[0m     path_parameters\u001b[38;5;241m=\u001b[39m_path_parameters,\n\u001b[1;32m    526\u001b[0m     query_parameters\u001b[38;5;241m=\u001b[39m_query_parameters,\n\u001b[1;32m    527\u001b[0m     start\u001b[38;5;241m=\u001b[39mstart,\n\u001b[1;32m    528\u001b[0m     end\u001b[38;5;241m=\u001b[39mend,\n\u001b[1;32m    529\u001b[0m     fn_format_datetime\u001b[38;5;241m=\u001b[39mfunction_format_datetime,\n\u001b[1;32m    530\u001b[0m     adjustments\u001b[38;5;241m=\u001b[39madjustments,\n\u001b[1;32m    531\u001b[0m     market_sessions\u001b[38;5;241m=\u001b[39msessions,\n\u001b[1;32m    532\u001b[0m     count\u001b[38;5;241m=\u001b[39mcount,\n\u001b[1;32m    533\u001b[0m     fields\u001b[38;5;241m=\u001b[39mfields,\n\u001b[1;32m    534\u001b[0m     closure\u001b[38;5;241m=\u001b[39mclosure,\n\u001b[1;32m    535\u001b[0m )\n\u001b[1;32m    537\u001b[0m _historical_result \u001b[38;5;241m=\u001b[39m HistoricalPricing\u001b[38;5;241m.\u001b[39mHistoricalPricingResponse(\n\u001b[1;32m    538\u001b[0m     _result\u001b[38;5;241m.\u001b[39m_response, \u001b[38;5;28mself\u001b[39m\u001b[38;5;241m.\u001b[39m_convert_historical_json_to_pandas\n\u001b[1;32m    539\u001b[0m )\n\u001b[1;32m    540\u001b[0m \u001b[38;5;28;01mif\u001b[39;00m _historical_result:\n",
      "File \u001b[0;32m~/Documents/02_Uni/02_BBK/09_FinalProject/MyReportRepo/env/lib/python3.12/site-packages/refinitiv/dataplatform/content/data/historical_pricing.py:665\u001b[0m, in \u001b[0;36mHistoricalPricing._get_historicalpricing\u001b[0;34m(self, url, path_parameters, query_parameters, start, end, fn_format_datetime, adjustments, market_sessions, count, fields, closure)\u001b[0m\n\u001b[1;32m    662\u001b[0m     _query_parameters\u001b[38;5;241m.\u001b[39mappend((\u001b[38;5;124m\"\u001b[39m\u001b[38;5;124mfields\u001b[39m\u001b[38;5;124m\"\u001b[39m, \u001b[38;5;124m\"\u001b[39m\u001b[38;5;124m,\u001b[39m\u001b[38;5;124m\"\u001b[39m\u001b[38;5;241m.\u001b[39mjoin(fields)))\n\u001b[1;32m    664\u001b[0m \u001b[38;5;28mself\u001b[39m\u001b[38;5;241m.\u001b[39m_endpoint\u001b[38;5;241m.\u001b[39murl \u001b[38;5;241m=\u001b[39m url\n\u001b[0;32m--> 665\u001b[0m _result \u001b[38;5;241m=\u001b[39m \u001b[38;5;28;01mawait\u001b[39;00m \u001b[38;5;28mself\u001b[39m\u001b[38;5;241m.\u001b[39m_endpoint\u001b[38;5;241m.\u001b[39msend_request_async(\n\u001b[1;32m    666\u001b[0m     Endpoint\u001b[38;5;241m.\u001b[39mRequestMethod\u001b[38;5;241m.\u001b[39mGET,\n\u001b[1;32m    667\u001b[0m     path_parameters\u001b[38;5;241m=\u001b[39mpath_parameters,\n\u001b[1;32m    668\u001b[0m     query_parameters\u001b[38;5;241m=\u001b[39m_query_parameters,\n\u001b[1;32m    669\u001b[0m     closure\u001b[38;5;241m=\u001b[39mclosure,\n\u001b[1;32m    670\u001b[0m )\n\u001b[1;32m    671\u001b[0m \u001b[38;5;28;01mif\u001b[39;00m _result \u001b[38;5;129;01mand\u001b[39;00m \u001b[38;5;129;01mnot\u001b[39;00m _result\u001b[38;5;241m.\u001b[39mis_success:\n\u001b[1;32m    672\u001b[0m     \u001b[38;5;28mself\u001b[39m\u001b[38;5;241m.\u001b[39m_endpoint\u001b[38;5;241m.\u001b[39msession\u001b[38;5;241m.\u001b[39mlog(\n\u001b[1;32m    673\u001b[0m         \u001b[38;5;241m1\u001b[39m, \u001b[38;5;124mf\u001b[39m\u001b[38;5;124m\"\u001b[39m\u001b[38;5;124mHistorical Pricing request failed: \u001b[39m\u001b[38;5;132;01m{\u001b[39;00m_result\u001b[38;5;241m.\u001b[39mstatus\u001b[38;5;132;01m}\u001b[39;00m\u001b[38;5;124m\"\u001b[39m\n\u001b[1;32m    674\u001b[0m     )\n",
      "File \u001b[0;32m~/Documents/02_Uni/02_BBK/09_FinalProject/MyReportRepo/env/lib/python3.12/site-packages/refinitiv/dataplatform/delivery/data/endpoint.py:551\u001b[0m, in \u001b[0;36mEndpoint.send_request_async\u001b[0;34m(self, method, header_parameters, path_parameters, query_parameters, body_parameters, closure)\u001b[0m\n\u001b[1;32m    548\u001b[0m     \u001b[38;5;28mself\u001b[39m\u001b[38;5;241m.\u001b[39mon_response(_result)\n\u001b[1;32m    549\u001b[0m     \u001b[38;5;28;01mreturn\u001b[39;00m _result\n\u001b[0;32m--> 551\u001b[0m \u001b[38;5;28;01mraise\u001b[39;00m EndpointError(\u001b[38;5;241m-\u001b[39m\u001b[38;5;241m1\u001b[39m, \u001b[38;5;124m\"\u001b[39m\u001b[38;5;124mSession is not opened. Can\u001b[39m\u001b[38;5;124m'\u001b[39m\u001b[38;5;124mt send any request\u001b[39m\u001b[38;5;124m\"\u001b[39m)\n",
      "\u001b[0;31mEndpointError\u001b[0m: Error code -1 | Session is not opened. Can't send any request"
     ]
    }
   ],
   "source": [
    "# Download december WTI data in case you need dates before 06/01/2012 to compute returns\n",
    "import refinitiv.dataplatform as rdp\n",
    "rdp.open_desktop_session('09045a9476f94a7593fa549512e20bf0330e166d')\n",
    "# Date format: YYYY-MM-DD\n",
    "# Refer to Carlo doc for granularity less than DAY (rdp.Intervals.xxx)\n",
    "# https://community.developers.refinitiv.com/questions/113429/seeking-time-interval-codes-for-20-minute-and-30-m.html\n",
    "wti = rdp.get_historical_price_summaries(universe = 'CLc1', interval = rdp.Intervals.DAILY, start = '2011-12-01', end = '2011-12-31')\n",
    "wti.to_csv(PATH_DATA_CLEAN + 'wti_December_2011.csv', index = False)"
   ]
  }
 ],
 "metadata": {
  "kernelspec": {
   "display_name": "Python 3 (ipykernel)",
   "language": "python",
   "name": "python3"
  },
  "language_info": {
   "codemirror_mode": {
    "name": "ipython",
    "version": 3
   },
   "file_extension": ".py",
   "mimetype": "text/x-python",
   "name": "python",
   "nbconvert_exporter": "python",
   "pygments_lexer": "ipython3",
   "version": "3.12.1"
  }
 },
 "nbformat": 4,
 "nbformat_minor": 5
}
