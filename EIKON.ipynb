{
 "cells": [
  {
   "cell_type": "code",
   "execution_count": null,
   "id": "96716e85",
   "metadata": {},
   "outputs": [],
   "source": [
    "# book a slot for eikon\n",
    "# https://bbk.libcal.com/reserve/eikon\n",
    "\n",
    "# download and instructions\n",
    "# https://birkbeckuol-my.sharepoint.com/personal/am_smith_bbk_ac_uk/_layouts/15/onedrive.aspx?id=%2Fpersonal%2Fam%5Fsmith%5Fbbk%5Fac%5Fuk%2FDocuments%2FDataStream%20%26%20Bloomberg%20guides%2FUsing%20Eikon%2Epdf&parent=%2Fpersonal%2Fam%5Fsmith%5Fbbk%5Fac%5Fuk%2FDocuments%2FDataStream%20%26%20Bloomberg%20guides&ga=1"
   ]
  },
  {
   "cell_type": "code",
   "execution_count": null,
   "id": "2b13c7c4",
   "metadata": {},
   "outputs": [],
   "source": [
    "import eikon as ek\n",
    "ek.set_app_key('09045a9476f94a7593fa549512e20bf0330e166d')"
   ]
  },
  {
   "cell_type": "code",
   "execution_count": null,
   "id": "f6e6e8e4",
   "metadata": {},
   "outputs": [],
   "source": [
    "# download prices\n",
    "crude_prices = ek.get_timeseries(\"CLc1\", start_date='2021-12-01', end_date='2023-04-01', interval='daily')"
   ]
  },
  {
   "cell_type": "code",
   "execution_count": null,
   "id": "2a475e13",
   "metadata": {},
   "outputs": [],
   "source": [
    "# get headlines\n",
    "temp_headlines = ek.get_news_headlines(\"crude oil IN ENGLISH\", date_from = (start.strftime(\"%m-%d-%Y\")), date_to=(next.strftime(\"%m-%d-%Y\")), count=100  )\n",
    "\n",
    "# given the headline code, download the news \n",
    "for i in range(len(temp_headlines)):\n",
    "    temp_story=ek.get_news_story(temp_headlines['storyId'][i], raw_output=False, debug=False)\n",
    "    stories.append((temp_story, temp_headlines['versionCreated'][i], temp_headlines['storyId'][i]))"
   ]
  },
  {
   "cell_type": "code",
   "execution_count": null,
   "id": "419abfb1",
   "metadata": {},
   "outputs": [],
   "source": [
    "# Download december WTI data in case you need dates before 06/01/2012 to compute returns\n",
    "import refinitiv.dataplatform as rdp\n",
    "rdp.open_desktop_session('09045a9476f94a7593fa549512e20bf0330e166d')\n",
    "# Date format: YYYY-MM-DD\n",
    "# Refer to Carlo doc for granularity less than DAY (rdp.Intervals.xxx)\n",
    "# https://community.developers.refinitiv.com/questions/113429/seeking-time-interval-codes-for-20-minute-and-30-m.html\n",
    "wti = rdp.get_historical_price_summaries(universe = 'CLc1', interval = rdp.Intervals.DAILY, start = '2011-12-01', end = '2011-12-31')\n",
    "wti.to_csv(PATH_DATA_CLEAN + 'wti_December_2011.csv', index = False)"
   ]
  }
 ],
 "metadata": {
  "kernelspec": {
   "display_name": "Python 3 (ipykernel)",
   "language": "python",
   "name": "python3"
  },
  "language_info": {
   "codemirror_mode": {
    "name": "ipython",
    "version": 3
   },
   "file_extension": ".py",
   "mimetype": "text/x-python",
   "name": "python",
   "nbconvert_exporter": "python",
   "pygments_lexer": "ipython3",
   "version": "3.11.5"
  }
 },
 "nbformat": 4,
 "nbformat_minor": 5
}
